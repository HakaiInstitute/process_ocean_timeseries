{
 "cells": [
  {
   "cell_type": "markdown",
   "metadata": {
    "id": "PgEOROviKq5-"
   },
   "source": [
    "# Install Hakai Timeseries Processing Package ( Google Colab)"
   ]
  },
  {
   "cell_type": "code",
   "execution_count": null,
   "metadata": {
    "colab": {
     "base_uri": "https://localhost:8080/"
    },
    "id": "BifNQwlOKp27",
    "outputId": "7b9d788c-f771-4dee-cb4a-7e829694adcf"
   },
   "outputs": [],
   "source": [
    "!pip install git+https://github.com/HakaiInstitute/process_ocean_timeseries.git"
   ]
  },
  {
   "cell_type": "markdown",
   "metadata": {
    "id": "xmJNVY8KKyyN"
   },
   "source": [
    "# Import the CTD timeseries method"
   ]
  },
  {
   "cell_type": "code",
   "execution_count": null,
   "metadata": {
    "id": "BjzWk49tY9cj"
   },
   "outputs": [],
   "source": [
    "from process_ocean_data import process_ctd_timeseries\n",
    "from process_ocean_data.tools import qc as qc\n",
    "\n",
    "import ipywidgets as widgets\n",
    "import xarray as xr\n",
    "import numpy as np\n",
    "\n",
    "import pandas as pd\n",
    "import plotly.express as px\n",
    "import plotly.graph_objects as go"
   ]
  },
  {
   "cell_type": "markdown",
   "metadata": {
    "id": "KLKZ8wW8K3oc"
   },
   "source": [
    "# Retrieve Hakai Deployment Log"
   ]
  },
  {
   "cell_type": "code",
   "execution_count": null,
   "metadata": {
    "colab": {
     "base_uri": "https://localhost:8080/",
     "height": 197
    },
    "id": "TwzYPUZuC9P6",
    "outputId": "d25ea799-0c91-4117-f40d-19c8da412bb9"
   },
   "outputs": [],
   "source": [
    "# Retrieve Hakai Instrument Deployment Log \n",
    "instrument_log = process_ctd_timeseries.get_hakai_ctd_log()\n",
    "instrument_log"
   ]
  },
  {
   "cell_type": "markdown",
   "metadata": {
    "id": "OchzW8OCK8h8"
   },
   "source": [
    "# Download Data Locally To be Processed"
   ]
  },
  {
   "cell_type": "code",
   "execution_count": null,
   "metadata": {
    "colab": {
     "base_uri": "https://localhost:8080/"
    },
    "id": "9Fln7DB7hz_-",
    "outputId": "0a13399d-1ae3-4b8a-fad9-f25fc77fa390"
   },
   "outputs": [],
   "source": [
    "instrument_log = process_ctd_timeseries.download_raw_data(instrument_log)"
   ]
  },
  {
   "cell_type": "code",
   "execution_count": null,
   "metadata": {},
   "outputs": [],
   "source": [
    "process_ctd_timeseries.get_ctd_qc_config()"
   ]
  },
  {
   "cell_type": "code",
   "execution_count": null,
   "metadata": {
    "colab": {
     "base_uri": "https://localhost:8080/",
     "height": 1000
    },
    "id": "7RgQLU-LjS_Q",
    "outputId": "a01d7ea4-f8ca-4891-c8a2-83cc5ac2fdf8"
   },
   "outputs": [],
   "source": [
    "# Apply Standard Processing to the data\n",
    "file_list = []\n",
    "for index, row in instrument_log.iterrows():\n",
    "    file_list +=[process_ctd_timeseries.process_data(row)]"
   ]
  },
  {
   "cell_type": "code",
   "execution_count": null,
   "metadata": {},
   "outputs": [],
   "source": [
    "# Retrieve processed Files\n",
    "file_list = [item for item in file_list if item]\n",
    "l1_files = [item['l1'] for item in file_list]"
   ]
  },
  {
   "cell_type": "markdown",
   "metadata": {
    "id": "AeVBvqx9jm_Q"
   },
   "source": [
    "# Manual Review (Not compatible with Google Colab)\n"
   ]
  },
  {
   "cell_type": "code",
   "execution_count": null,
   "metadata": {},
   "outputs": [],
   "source": [
    "# Review one file at the time\n",
    "file_selection = widgets.Select(\n",
    "    options=l1_files,\n",
    "    value=l1_files[0],\n",
    "    description='File to review:'\n",
    ")\n",
    "file_selection"
   ]
  },
  {
   "cell_type": "code",
   "execution_count": null,
   "metadata": {
    "id": "lClC5FNXJaMz"
   },
   "outputs": [],
   "source": [
    "# Load Selected Dataset\n",
    "ds = xr.open_dataset(file_selection.value)\n",
    "df = ds.to_dataframe().reset_index()\n"
   ]
  },
  {
   "cell_type": "code",
   "execution_count": null,
   "metadata": {},
   "outputs": [],
   "source": [
    "# Generate a review flag from the QARTOD aggregate. If present the review flag will overwrite the QARTOD flag on a L2 data\n",
    "flag_to_review = \"qartod_aggregate\"\n",
    "for var in df.filter(like=flag_to_review).columns:\n",
    "    df[var.replace(flag_to_review,'review_flag')] = df[var].astype(int).astype(str)"
   ]
  },
  {
   "cell_type": "code",
   "execution_count": null,
   "metadata": {
    "id": "yYKsXMa5Wizb"
   },
   "outputs": [],
   "source": [
    "# NOT COMPATIBLE WITH GOOGLE COLAB \n",
    "review_flag_suffix = \"_review_flag\"\n",
    "qc.manual_qc_interface(df,\n",
    "                       variable_list= ['TEMPS901','PSALST01', 'DOXYZZ01', 'CNDCST01'],\n",
    "                       flags= {'GOOD':'1','UNKNOWN':'2','SUSPECT':'3','FAIL':'4','MISSING':'9'},\n",
    "                       review_flag=review_flag_suffix)"
   ]
  },
  {
   "cell_type": "code",
   "execution_count": null,
   "metadata": {},
   "outputs": [],
   "source": [
    "# Convert all flag variables to a standard type: {QARTOD: integer, Hakai: String}\n",
    "for name,value in df.items():\n",
    "    if review_flag_suffix in name:\n",
    "        try:\n",
    "            df[name] = df[name].astype('int8')\n",
    "        except ValueError:\n",
    "            df[name] = df[name].astype(str)\n",
    "df               "
   ]
  },
  {
   "cell_type": "markdown",
   "metadata": {},
   "source": [
    "# Generate QCed files\n",
    "1. Level 1: add manual flag to a review column\n",
    "1. Level 2: Drop Bad Data \n"
   ]
  },
  {
   "cell_type": "code",
   "execution_count": null,
   "metadata": {},
   "outputs": [],
   "source": [
    "# Seabird tends to have a fill value equal -9E-29. We'll replace that by np.nan\n",
    "\n",
    "ds = old_ds.copy()\n",
    "for name, value in ds.items():\n",
    "    if '_FillValue' in value.encoding and 'missing_value' in value.encoding:\n",
    "        value.encoding.pop('_FillValue')\n",
    "for name, len in ds.dims.items():\n",
    "    if '_FillValue' in ds[name].encoding and 'missing_value' in ds[name].encoding:\n",
    "        ds[name].encoding.pop('_FillValue')"
   ]
  },
  {
   "cell_type": "code",
   "execution_count": null,
   "metadata": {},
   "outputs": [],
   "source": [
    "# Level 1 Files\n",
    "# Add selected flags back in the L1 file.\n",
    "for var in df.filter(like=review_flag_suffix).columns:\n",
    "    associated_variable = var.replace(review_flag_suffix,'')\n",
    "    ds[var] = (ds[associated_variable].dims, df[var])\n",
    "    \n",
    "    if 'ancillary_variable' in ds[associated_variable].attrs:\n",
    "        ds[associated_variable].attrs[\"ancillary_variable\"] += ' '+var\n",
    "    else:\n",
    "        ds[associated_variable].attrs[\"ancillary_variable\"] = var\n",
    "        \n",
    "# Save to NetCDF\n",
    "l1_review_file = file_selection.value.rsplit('.')[0]+'_review.nc'\n",
    "ds.to_netcdf(l1_review_file)"
   ]
  },
  {
   "cell_type": "code",
   "execution_count": null,
   "metadata": {},
   "outputs": [],
   "source": [
    "# Level 2 Flag\n",
    "ds_level2 = ds.copy()\n",
    "\n",
    "consider_only=[1]\n",
    "fillValue = np.nan\n",
    "for name, value in ds_level2.items():\n",
    "    if review_flag_suffix in name:\n",
    "        related_variable = name.replace(review_flag_suffix,'')\n",
    "        \n",
    "        ds_level2[related_variable] = ds_level2[related_variable].where(ds_level2[name].isin(consider_only))\n",
    "        "
   ]
  }
 ],
 "metadata": {
  "colab": {
   "collapsed_sections": [],
   "name": "Untitled5.ipynb",
   "provenance": []
  },
  "kernelspec": {
   "display_name": "Python 3",
   "language": "python",
   "name": "python3"
  },
  "language_info": {
   "codemirror_mode": {
    "name": "ipython",
    "version": 3
   },
   "file_extension": ".py",
   "mimetype": "text/x-python",
   "name": "python",
   "nbconvert_exporter": "python",
   "pygments_lexer": "ipython3",
   "version": "3.7.3"
  }
 },
 "nbformat": 4,
 "nbformat_minor": 4
}
